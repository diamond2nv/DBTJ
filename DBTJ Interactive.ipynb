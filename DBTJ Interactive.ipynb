{
 "cells": [
  {
   "cell_type": "code",
   "execution_count": 1,
   "metadata": {},
   "outputs": [],
   "source": [
    "%matplotlib widget\n",
    "from matplotlib import pyplot as plt\n",
    "import numpy as np\n",
    "from scipy import constants\n",
    "\n",
    "from dbtj import dbtj, gamma\n",
    "\n",
    "from IPython.display import display\n",
    "from ipywidgets import interactive, FloatSlider, Checkbox"
   ]
  },
  {
   "cell_type": "markdown",
   "metadata": {},
   "source": [
    "## Interactive DBTJ model"
   ]
  },
  {
   "cell_type": "code",
   "execution_count": 5,
   "metadata": {},
   "outputs": [
    {
     "data": {
      "application/vnd.jupyter.widget-view+json": {
       "model_id": "075ec1bb79e946b5aaffb948d1d4f95f",
       "version_major": 2,
       "version_minor": 0
      },
      "text/plain": [
       "Canvas(toolbar=Toolbar(toolitems=[('Home', 'Reset original view', 'home', 'home'), ('Back', 'Back to previous …"
      ]
     },
     "metadata": {},
     "output_type": "display_data"
    },
    {
     "data": {
      "application/vnd.jupyter.widget-view+json": {
       "model_id": "57c17f28a6d845cfbe2a35655ac238b3",
       "version_major": 2,
       "version_minor": 0
      },
      "text/plain": [
       "interactive(children=(FloatSlider(value=1000000.0, description='R1 ($\\\\Omega$)', max=10000000000.0, min=100000…"
      ]
     },
     "metadata": {},
     "output_type": "display_data"
    }
   ],
   "source": [
    "# define bias range\n",
    "bias = np.linspace(-2, 2, 256)\n",
    "\n",
    "# define initial parameters\n",
    "R1 = FloatSlider(value=1e6, min=1e6, max=10e9, step=1e6, readout_format='.3g', description='R1 ($\\Omega$)')\n",
    "R2 = FloatSlider(value=1e6, min=1e6, max=10e9, step=1e6, readout_format='.3g', description='R2 ($\\Omega$)')\n",
    "C1 = FloatSlider(value=1., min=0.01, max=5., step=0.01, readout_format='.3g', description='C1 (aF)')\n",
    "C2 = FloatSlider(value=1., min=0.01, max=5., step=0.01, readout_format='.3g', description='C2 (aF)')\n",
    "Q0 = FloatSlider(value=0., min=-0.5, max=0.5, step=0.01, description='Q0 (#e)')\n",
    "T = FloatSlider(value=77., min=3., max=293., step=1., description='T (K)')\n",
    "\n",
    "# do initial plot\n",
    "fig, ax = plt.subplots()\n",
    "line, = ax.plot(bias, bias)\n",
    "ax.set_xlim(bias.min(), bias.max())\n",
    "ax.set_xlabel('Bias/ V')\n",
    "ax.set_ylabel('Current/ nA')\n",
    "\n",
    "axdiff = ax.twinx()\n",
    "line2, = axdiff.plot(bias, bias, color='r')\n",
    "axdiff.set_ylabel('dI/dV')\n",
    "\n",
    "ax.legend((line, line2), ('Current', 'dI/dV'), loc='lower right')\n",
    "\n",
    "# pad fraction\n",
    "pad = plt.rcParams['axes.ymargin']\n",
    "\n",
    "# interactive function just updates line ydata\n",
    "def update(R1, R2, C1, C2, Q0, T, diff, ylim):\n",
    "    current = dbtj(bias, R1, R2, C1*constants.atto, C2*constants.atto, Q0, T)\n",
    "    # convert to nA\n",
    "    current /= constants.nano\n",
    "    # update line\n",
    "    line.set_ydata(current)\n",
    "    # create mask to get valid points and exclude infs and NaNs from ylim update\n",
    "    mask = np.isfinite(current)\n",
    "    # if dIdV requested then plot\n",
    "    if diff:\n",
    "        line2.set_ydata(np.gradient(current, bias))\n",
    "    # otherwise set invisible\n",
    "    else:\n",
    "        line2.set_visible(False)\n",
    "    # update axes limits if required\n",
    "    if not ylim:\n",
    "        ax.set_ylim(current[mask].min()*(1+pad), current[mask].max()*(1+pad))\n",
    "        axdiff.set_ylim(line2.get_ydata()[mask].min(), line2.get_ydata()[mask].max()*(1+pad))\n",
    "        \n",
    "fig.tight_layout()\n",
    "# create interactive figure\n",
    "display(interactive(update, R1=R1, R2=R2, C1=C1, C2=C2, Q0=Q0, T=T,\n",
    "                    diff=Checkbox(value=True, description='dI/dV'),\n",
    "                    ylim=Checkbox(value=False, description='Fix ylim')))"
   ]
  },
  {
   "cell_type": "code",
   "execution_count": null,
   "metadata": {},
   "outputs": [],
   "source": []
  }
 ],
 "metadata": {
  "kernelspec": {
   "display_name": "Python 3",
   "language": "python",
   "name": "python3"
  },
  "language_info": {
   "codemirror_mode": {
    "name": "ipython",
    "version": 3
   },
   "file_extension": ".py",
   "mimetype": "text/x-python",
   "name": "python",
   "nbconvert_exporter": "python",
   "pygments_lexer": "ipython3",
   "version": "3.7.4"
  }
 },
 "nbformat": 4,
 "nbformat_minor": 4
}
